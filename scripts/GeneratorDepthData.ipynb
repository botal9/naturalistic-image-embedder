{
 "cells": [
  {
   "cell_type": "code",
   "execution_count": 1,
   "id": "difficult-wiring",
   "metadata": {},
   "outputs": [],
   "source": [
    "import cv2\n",
    "from datetime import datetime\n",
    "import matplotlib.pyplot as plt\n",
    "import numpy as np\n",
    "import os\n",
    "import pandas as pd\n",
    "from PIL import Image\n",
    "from sklearn.model_selection import train_test_split\n",
    "import time\n",
    "import torch\n",
    "from torch import nn\n",
    "from torch.utils.data import Dataset, DataLoader\n",
    "from torchvision import models, transforms as TF\n",
    "from torchvision.transforms import functional as F"
   ]
  },
  {
   "cell_type": "code",
   "execution_count": 2,
   "id": "martial-paragraph",
   "metadata": {},
   "outputs": [],
   "source": [
    "from naturalistic_image_embedder.third_party.td_ken_burns.public import depth_map"
   ]
  },
  {
   "cell_type": "code",
   "execution_count": 3,
   "id": "explicit-tradition",
   "metadata": {},
   "outputs": [],
   "source": [
    "dataset_dir = '/home/vovechkin/ads/dataset'\n",
    "# dataset_dir = '/home/vovechkin/generator_data/Hday2night'\n",
    "image_dir = os.path.join(dataset_dir, 'composite_images')\n",
    "masks_dir = os.path.join(dataset_dir, 'masks')\n",
    "\n",
    "depth_dir = os.path.join(dataset_dir, 'depth_images')\n",
    "if not os.path.exists(depth_dir):\n",
    "    os.mkdir(depth_dir)"
   ]
  },
  {
   "cell_type": "code",
   "execution_count": 4,
   "id": "stretch-empire",
   "metadata": {},
   "outputs": [],
   "source": [
    "PROD = True\n",
    "\n",
    "all_images = [os.path.join(image_dir, image_name) for image_name in os.listdir(image_dir)]\n",
    "\n",
    "if not PROD:\n",
    "    all_images = all_images[:10]\n",
    "    sample_image_path = all_images[0]\n",
    "    sample_img = cv2.imread(sample_image_path, cv2.IMREAD_COLOR)\n",
    "    \n",
    "    depth_image = depth_map(sample_img)\n",
    "    fig = plt.figure(figsize=(15, 15))\n",
    "    plt.imshow(depth_image[0])\n",
    "    plt.show()"
   ]
  },
  {
   "cell_type": "code",
   "execution_count": 5,
   "id": "baking-ontario",
   "metadata": {},
   "outputs": [
    {
     "name": "stdout",
     "output_type": "stream",
     "text": [
      "1 / 178\n",
      "51 / 178\n",
      "101 / 178\n",
      "151 / 178\n"
     ]
    }
   ],
   "source": [
    "size = len(all_images)\n",
    "image_size = (1024, 1024)\n",
    "\n",
    "for i, image_path in enumerate(all_images):\n",
    "    try:\n",
    "        name, _ = os.path.basename(image_path).split('.')\n",
    "        dst_name = os.path.join(depth_dir, name) + '.png'\n",
    "\n",
    "        image = cv2.imread(image_path, cv2.IMREAD_COLOR)\n",
    "        if max(image.shape[0], image.shape[1]) > 1024: \n",
    "            image = cv2.resize(image, image_size)\n",
    "        depth_image = depth_map(image)[0]\n",
    "        cv2.imwrite(dst_name, depth_image)\n",
    "        if i % 50 == 0:\n",
    "            print(f'{i+1} / {size}')\n",
    "    except Exception as e:\n",
    "        print(f'{i} ({image_path}):', e)\n",
    "        if not PROD:\n",
    "            raise e"
   ]
  },
  {
   "cell_type": "code",
   "execution_count": 6,
   "id": "international-moral",
   "metadata": {},
   "outputs": [],
   "source": [
    "def read_ldr(path):\n",
    "    ldr_img = cv2.imread(path, cv2.IMREAD_COLOR)\n",
    "    ldr_img = cv2.cvtColor(ldr_img, cv2.COLOR_BGR2RGB).astype('float32')\n",
    "    return (ldr_img / 255).astype('float32')"
   ]
  },
  {
   "cell_type": "code",
   "execution_count": 7,
   "id": "universal-campus",
   "metadata": {},
   "outputs": [],
   "source": [
    "# image_size = (1024, 1024)\n",
    "# path = '/home/vovechkin/generator_data/Hday2night/composite_images/d18997-17_1_5.jpg'\n",
    "\n",
    "# comp = read_ldr(path)\n",
    "# img = cv2.resize(comp, image_size)"
   ]
  }
 ],
 "metadata": {
  "kernelspec": {
   "display_name": "venv",
   "language": "python",
   "name": "venv"
  },
  "language_info": {
   "codemirror_mode": {
    "name": "ipython",
    "version": 3
   },
   "file_extension": ".py",
   "mimetype": "text/x-python",
   "name": "python",
   "nbconvert_exporter": "python",
   "pygments_lexer": "ipython3",
   "version": "3.8.5"
  }
 },
 "nbformat": 4,
 "nbformat_minor": 5
}
