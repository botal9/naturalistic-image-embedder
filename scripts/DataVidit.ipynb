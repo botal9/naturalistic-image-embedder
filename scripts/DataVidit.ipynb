{
 "cells": [
  {
   "cell_type": "code",
   "execution_count": 1,
   "id": "white-bradford",
   "metadata": {},
   "outputs": [],
   "source": [
    "import copy\n",
    "import cv2\n",
    "from datetime import datetime\n",
    "import matplotlib.pyplot as plt\n",
    "import numpy as np\n",
    "import os\n",
    "import pandas as pd\n",
    "from PIL import Image\n",
    "from sklearn.model_selection import train_test_split\n",
    "import time\n",
    "import torch\n",
    "from torch import nn\n",
    "import torch.optim as optim\n",
    "from torch.optim import lr_scheduler\n",
    "from torch.utils.data import Dataset, DataLoader\n",
    "from torchvision import models, transforms as TF\n",
    "from torchvision.transforms import functional as F"
   ]
  },
  {
   "cell_type": "code",
   "execution_count": 4,
   "id": "waiting-vintage",
   "metadata": {},
   "outputs": [],
   "source": [
    "dataset_dir = './embedding_data/vidit'\n",
    "out_dir = './embedding_data/vidit_out'\n",
    "\n",
    "train_file = './embedding_data/vidit_train.txt'\n",
    "test_file = './embedding_data/vidit_test.txt'"
   ]
  },
  {
   "cell_type": "code",
   "execution_count": 5,
   "id": "coordinate-dress",
   "metadata": {},
   "outputs": [
    {
     "name": "stdout",
     "output_type": "stream",
     "text": [
      "./indoor_hdr/9C4A6257-3cc71c714b.exr\n",
      "1681\n"
     ]
    }
   ],
   "source": [
    "img_path = os.path.join(dataset_dir, os.listdir(dataset_dir)[0])\n",
    "images = [os.path.join(dataset_dir, image_name) for image_name in os.listdir(dataset_dir)]\n",
    "print(img_path)\n",
    "print(len(images))"
   ]
  },
  {
   "cell_type": "code",
   "execution_count": 6,
   "id": "sixth-delhi",
   "metadata": {},
   "outputs": [],
   "source": [
    "def gamma_correction(img, gamma=5):\n",
    "    return np.clip(np.power(img, 1.0 / gamma), 0.0, 1.0).astype(np.float32)\n",
    "\n",
    "\n",
    "def to_ldr(img_hdr, gamma=2.2):\n",
    "    tonemap = cv2.createTonemapReinhard(gamma, 0, 0, 0)\n",
    "    return (tonemap.process(img_hdr) * 255).astype(np.uint8)\n",
    "\n",
    "\n",
    "def read_hdr(path):\n",
    "    hdr_img = cv2.imread(path, cv2.IMREAD_ANYDEPTH | cv2.IMREAD_COLOR)\n",
    "    return cv2.cvtColor(hdr_img, cv2.COLOR_BGR2RGB).astype('float32')\n",
    "\n",
    "\n",
    "def write_hdr(path, hdr_img):\n",
    "    hdr_bgr = cv2.cvtColor(hdr_img, cv2.COLOR_RGB2BGR).astype('float32')\n",
    "    cv2.imwrite(path, hdr_bgr, [cv2.IMWRITE_EXR_TYPE_FLOAT])\n",
    "\n",
    "\n",
    "def write_ldr(path, ldr_img):\n",
    "    ldr_img1 = cv2.cvtColor(ldr_img, cv2.COLOR_RGB2BGR)\n",
    "    cv2.imwrite(path, ldr_img1)"
   ]
  },
  {
   "cell_type": "code",
   "execution_count": 7,
   "id": "adverse-birmingham",
   "metadata": {},
   "outputs": [],
   "source": [
    "def light_sources_mask(hdr_image):\n",
    "    treshold = np.percentile(hdr_image, 99)\n",
    "    mask_rgb = (hdr_image > treshold).astype(np.uint8)\n",
    "    mask = np.max(mask_rgb, axis=2)\n",
    "    return mask"
   ]
  },
  {
   "cell_type": "code",
   "execution_count": 8,
   "id": "accessory-great",
   "metadata": {},
   "outputs": [],
   "source": [
    "def show_light(hdr_img):\n",
    "    img = to_ldr(hdr_img.copy())\n",
    "\n",
    "    mask = light_sources_mask(hdr_img)\n",
    "    mask_rgb = np.stack([mask for _ in range(3)], axis=2)\n",
    "    img1 = img * (1 - mask_rgb) + mask_rgb * np.array([0, 255, 255])\n",
    "\n",
    "    fig = plt.figure(figsize=(15, 8))\n",
    "    plt.imshow(img1)\n",
    "    plt.show()"
   ]
  },
  {
   "cell_type": "code",
   "execution_count": 9,
   "id": "central-hometown",
   "metadata": {},
   "outputs": [],
   "source": [
    "def to_pil(cv2_img):\n",
    "    cv2_img1 = cv2.cvtColor(cv2_img.copy(), cv2.COLOR_BGR2RGB)\n",
    "    return Image.fromarray(cv2_img1)\n",
    "\n",
    "def from_pil(pil_img):\n",
    "    img = np.array(pil_img)\n",
    "    img = cv2.cvtColor(img, cv2.COLOR_RGB2BGR)\n",
    "    return img\n",
    "\n",
    "\n",
    "def adjust_image_param(img, func, lower_value, higher_value):\n",
    "    original_image = to_pil(img)\n",
    "\n",
    "    lower_param_image = func(original_contrast.copy(), lower_value)\n",
    "    higher_param_image = func(original_contrast.copy(), higher_value)\n",
    "\n",
    "    composed_contrast_adjusted = np.concatenate(\n",
    "        list(map(from_pil, [lower_param_image, original_image, higher_param_image])),\n",
    "        axis=1)\n",
    "    show_ldr(composed_contrast_adjusted)"
   ]
  },
  {
   "cell_type": "code",
   "execution_count": 10,
   "id": "forward-glucose",
   "metadata": {},
   "outputs": [],
   "source": [
    "nfov = NFOV(height=512, width=384, FOV=[0.30, 0.90])\n",
    "\n",
    "nfov_h = NFOV(height=512, width=384, FOV=[0.20, 0.60])\n",
    "nfov_w = NFOV(height=1024, width=1024, FOV=[0.75, 0.75])\n",
    "\n",
    "def crop(img, point, dt='uint8'):\n",
    "    cropped = nfov.toNFOV(img, point, dt)\n",
    "    return cv2.resize(cropped, (nfov.width, nfov.height)).astype(dt)\n",
    "\n",
    "\n",
    "def crop1(nfover, img, point, dt='uint8'):\n",
    "    cropped = nfover.toNFOV(img, point, dt)\n",
    "    return cv2.resize(cropped, (nfover.width, nfover.height)).astype(dt)\n",
    "\n",
    "\n",
    "def crop_pair(img, point, dt='uint8'):\n",
    "    cropped_w = crop1(nfov_w, img, point, dt)\n",
    "    cropped_h = crop1(nfov_h, img, point, dt)\n",
    "    return (cropped_w, cropped_h)\n",
    "\n",
    "\n",
    "n_crops = 5\n",
    "\n",
    "\n",
    "def crop_points():\n",
    "    w = np.random.random(size=(n_crops, 1))\n",
    "    h = np.random.random(size=(n_crops, 1)) * 0.35 + 0.2\n",
    "    return np.concatenate((w, h), axis=1)\n",
    "\n",
    "\n",
    "def crop_point1():\n",
    "    w = np.random.random()\n",
    "    h = np.random.random() * 0.35 + 0.2\n",
    "    return np.array([w, h])\n",
    "\n",
    "def random_fov_crop(img):\n",
    "    return crop1(nfov_w, img, crop_point1())"
   ]
  },
  {
   "cell_type": "code",
   "execution_count": 155,
   "id": "neither-animation",
   "metadata": {},
   "outputs": [
    {
     "data": {
      "image/png": "[encoded data removed]",
      "text/plain": [
       "<Figure size 720x720 with 1 Axes>"
      ]
     },
     "metadata": {
      "needs_background": "light"
     },
     "output_type": "display_data"
    }
   ],
   "source": [
    "# # np.random.seed(1338)\n",
    "\n",
    "# a = np.random.randint(256, 512)\n",
    "# b = np.random.randint(256, 512)\n",
    "\n",
    "# img12 = cv2.getStructuringElement(cv2.MORPH_ELLIPSE, (a, b))\n",
    "# fig = plt.figure(figsize=(10, 10))\n",
    "# # plt.imshow(img12)\n",
    "# # plt.show()\n",
    "\n",
    "# tf = TF.Compose([\n",
    "#     TF.RandomRotation(90, expand=True)\n",
    "# ])\n",
    "\n",
    "# pil_img12 = Image.fromarray(img12)\n",
    "# img13 = np.array(tf(pil_img12))\n",
    "# th, tw = img13.shape\n",
    "\n",
    "# BIG_SZ = (1024, 1024)\n",
    "# ph = np.random.randint(1024 - th)\n",
    "# pw = np.random.randint(1024 - tw)\n",
    "# mask = np.zeros((1024, 1024))\n",
    "# mask[ph:ph+th, pw:pw+tw] = img13\n",
    "\n",
    "# plt.imshow(mask)\n",
    "# plt.show()"
   ]
  },
  {
   "cell_type": "code",
   "execution_count": null,
   "id": "formal-contractor",
   "metadata": {},
   "outputs": [],
   "source": [
    "# def get_random_mask():\n",
    "#     a = np.random.randint(256, 512)\n",
    "#     b = np.random.randint(256, 512)\n",
    "\n",
    "#     ellipsis = cv2.getStructuringElement(cv2.MORPH_ELLIPSE, (a, b))\n",
    "#     tf = TF.RandomRotation(90, expand=True)\n",
    "#     small_mask = np.array(tf(Image.fromarray(ellipsis)))\n",
    "#     th, tw = small_mask.shape\n",
    "    \n",
    "#     ph = np.random.randint(1024 - th)\n",
    "#     pw = np.random.randint(1024 - tw)\n",
    "#     mask = np.zeros((1024, 1024))\n",
    "#     mask[ph:ph+th, pw:pw+tw] = small_mask\n",
    "#     return mask"
   ]
  },
  {
   "cell_type": "code",
   "execution_count": null,
   "id": "established-voluntary",
   "metadata": {
    "scrolled": false
   },
   "outputs": [],
   "source": [
    "np.random.seed(1337)\n",
    "\n",
    "subdir_name = datetime.now().strftime(\"%d_%b_%H_%M_%S\")\n",
    "subdir = os.path.join(base_dir, subdir_name)\n",
    "\n",
    "if not os.path.exists(subdir):\n",
    "    os.mkdir(subdir)\n",
    "\n",
    "hdr_crops_dir = os.path.join(subdir, 'crops_hdr')\n",
    "if not os.path.exists(hdr_crops_dir):\n",
    "    os.mkdir(hdr_crops_dir)\n",
    "\n",
    "ldr_crops_dir = os.path.join(subdir, 'crops_ldr')\n",
    "if not os.path.exists(ldr_crops_dir):\n",
    "    os.mkdir(ldr_crops_dir)\n",
    "\n",
    "WIMG_SIZE = (1024, 1024)\n",
    "\n",
    "PROD = True\n",
    "\n",
    "\n",
    "all_images = hdr_images if PROD else hdr_images[:3]\n",
    "for image_path in all_images:\n",
    "    name, _ = os.path.basename(image_path).split('.')\n",
    "    h, w = WIMG_SIZE\n",
    "\n",
    "    try:\n",
    "        hdr_img = read_hdr(image_path)\n",
    "        hdr_img = cv2.resize(hdr_img, WIMG_SIZE, interpolation = cv2.INTER_CUBIC)\n",
    "        \n",
    "        points = crop_points()\n",
    "        cropped_hdrs = [crop1(nfov_w, hdr_img.copy(), point, dt='float32') for point in points]\n",
    "\n",
    "        for i, cropped_hdr in enumerate(cropped_hdrs):\n",
    "            new_name = f'{name}_{i}'\n",
    "            cropped_hdr_path = os.path.join(hdr_crops_dir, f'{new_name}.exr')\n",
    "            cropped_ldr_path = os.path.join(ldr_crops_dir, f'{new_name}.png')\n",
    "            cropped_ldr = to_ldr(cropped_hdr)\n",
    "            \n",
    "            if not PROD and i == 0:\n",
    "                print(cropped_ldr_path)\n",
    "                fig = plt.figure(figsize=(10, 10))\n",
    "                plt.imshow(cropped_ldr)\n",
    "                plt.show()\n",
    "                \n",
    "\n",
    "            write_hdr(cropped_hdr_path, cropped_hdr)\n",
    "            write_ldr(cropped_ldr_path, cropped_ldr)\n",
    "    except Exception as e:\n",
    "        print(e)\n",
    "        if not PROD:\n",
    "            raise e\n"
   ]
  },
  {
   "cell_type": "code",
   "execution_count": null,
   "id": "little-primary",
   "metadata": {},
   "outputs": [],
   "source": []
  }
 ],
 "metadata": {
  "kernelspec": {
   "display_name": "venv",
   "language": "python",
   "name": "venv"
  },
  "language_info": {
   "codemirror_mode": {
    "name": "ipython",
    "version": 3
   },
   "file_extension": ".py",
   "mimetype": "text/x-python",
   "name": "python",
   "nbconvert_exporter": "python",
   "pygments_lexer": "ipython3",
   "version": "3.8.5"
  }
 },
 "nbformat": 4,
 "nbformat_minor": 5
}
