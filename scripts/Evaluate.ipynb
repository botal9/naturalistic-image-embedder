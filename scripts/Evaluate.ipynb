{
 "cells": [
  {
   "cell_type": "code",
   "execution_count": null,
   "id": "union-proposition",
   "metadata": {},
   "outputs": [],
   "source": [
    "import cv2\n",
    "import time\n",
    "import torch\n",
    "import matplotlib.pyplot as plt\n",
    "import math\n",
    "import numpy as np\n",
    "from options.test_options import TestOptions\n",
    "from data import create_dataset\n",
    "from models import create_model\n",
    "import torchvision.transforms as tf\n",
    "from util.local_visualizer import LocalVisualizer"
   ]
  },
  {
   "cell_type": "code",
   "execution_count": null,
   "id": "express-abraham",
   "metadata": {},
   "outputs": [],
   "source": [
    "from PIL import Image\n",
    "from skimage import data, img_as_float\n",
    "from skimage.metrics import mean_squared_error as mse\n",
    "from skimage.metrics import peak_signal_noise_ratio as psnr"
   ]
  },
  {
   "cell_type": "code",
   "execution_count": null,
   "id": "exposed-masters",
   "metadata": {},
   "outputs": [],
   "source": [
    "NAME = 'gen_new4'\n",
    "# DS_NAME = 'HFlickr'\n",
    "# DS_NAME = 'Hday2night'\n",
    "# DS_NAME = 'HAdobe5k'\n",
    "# DS_NAME = 'HCOCO'\n",
    "DS_NAME = ''\n",
    "\n",
    "# defaults = {\n",
    "#     'dataroot': f'../../embedding_data/{DS_NAME}',\n",
    "#     'model': 'emb',\n",
    "#     'dataset_mode': 'emb',\n",
    "#     'dataset_root': f'../../embedding_data/{DS_NAME}',\n",
    "#     'name': NAME\n",
    "# }\n",
    "\n",
    "defaults = {\n",
    "    'dataroot': f'../../generator_data/{DS_NAME}',\n",
    "    'model': 'my',\n",
    "    'dataset_mode': 'my',\n",
    "    'dataset_root': f'../../generator_data/{DS_NAME}',\n",
    "    'embedding_save_dir': './checkpoints/emb_vidit4',\n",
    "    'name': NAME\n",
    "}"
   ]
  },
  {
   "cell_type": "code",
   "execution_count": null,
   "id": "pregnant-discretion",
   "metadata": {},
   "outputs": [],
   "source": [
    "opt = TestOptions(defaults=defaults).parse()"
   ]
  },
  {
   "cell_type": "code",
   "execution_count": null,
   "id": "several-processing",
   "metadata": {},
   "outputs": [],
   "source": [
    "# hard-code some parameters for test\n",
    "opt.num_threads = 0   # test code only supports num_threads = 1\n",
    "opt.batch_size = 1    # test code only supports batch_size = 1\n",
    "opt.serial_batches = True  # disable data shuffling; comment this line if results on randomly chosen images are needed.\n",
    "opt.no_flip = True    # no flip; comment this line if results on flipped images are needed.\n",
    "opt.display_id = -1   # no visdom display; the test code saves the results to a HTML file.\n",
    "\n",
    "# opt.max_dataset_size = 200\n",
    "# opt.gpu_ids = []    # use cpu"
   ]
  },
  {
   "cell_type": "code",
   "execution_count": null,
   "id": "matched-identification",
   "metadata": {},
   "outputs": [],
   "source": [
    "assert opt.isTrain == False"
   ]
  },
  {
   "cell_type": "code",
   "execution_count": null,
   "id": "outstanding-contrast",
   "metadata": {},
   "outputs": [],
   "source": [
    "dataset = create_dataset(opt)  # create a dataset given opt.dataset_mode and other options\n",
    "dataset_size = len(dataset)    # get the number of images in the dataset.\n",
    "print('The number of training images = %d' % dataset_size)\n",
    "\n",
    "model = create_model(opt)      # create a model given opt.model and other options\n",
    "# model.setup(opt)               # regular setup: load and print networks; create schedulers\n",
    "model.load_networks('latest')\n",
    "model.print_networks(verbose=False)\n",
    "model.eval()"
   ]
  },
  {
   "cell_type": "code",
   "execution_count": null,
   "id": "fatty-camera",
   "metadata": {},
   "outputs": [],
   "source": [
    "# assert model.device == torch.device('cpu')"
   ]
  },
  {
   "cell_type": "code",
   "execution_count": null,
   "id": "stopped-graphic",
   "metadata": {},
   "outputs": [],
   "source": [
    "class NormalizeInverse(tf.Normalize):\n",
    "    \"\"\"\n",
    "    Undoes the normalization and returns the reconstructed images in the input domain.\n",
    "    \"\"\"\n",
    "\n",
    "    def __init__(self, mean, std):\n",
    "        mean = torch.as_tensor(mean)\n",
    "        std = torch.as_tensor(std)\n",
    "        std_inv = 1 / (std + 1e-7)\n",
    "        mean_inv = -mean * std_inv\n",
    "        super().__init__(mean=mean_inv, std=std_inv)\n",
    "\n",
    "    def __call__(self, tensor):\n",
    "        return super().__call__(tensor)"
   ]
  },
  {
   "cell_type": "code",
   "execution_count": null,
   "id": "printable-onion",
   "metadata": {
    "scrolled": false
   },
   "outputs": [],
   "source": [
    "loss_psnr = 0.0\n",
    "loss_mse = 0.0\n",
    "loss_fmse = 0.0\n",
    "\n",
    "mse_scores = []\n",
    "fmse_scores = []\n",
    "\n",
    "image_size = (256, 256)\n",
    "\n",
    "def to_img(tensor, unnorm=None):\n",
    "    tensor = torch.squeeze(tensor.detach().to('cpu'))\n",
    "    if unnorm is not None:\n",
    "        tensor = unnorm(tensor)\n",
    "    np_img = tensor.numpy()\n",
    "    np_img = np_img.transpose((1, 2, 0))\n",
    "#     np_img = cv2.resize(np_img, image_size, interpolation=cv2.INTER_CUBIC)\n",
    "    return (np_img.clip(0, 1) * 255).astype(np.uint8)\n",
    "    \n",
    "unnorm = NormalizeInverse((0.5, 0.5, 0.5), (0.5, 0.5, 0.5))\n",
    "unnorm1 = NormalizeInverse((0.5,), (0.5,))\n",
    "\n",
    "print(f'Testing {DS_NAME}, {dataset_size} images')\n",
    "for i, data in enumerate(dataset):\n",
    "#     if i > 0:\n",
    "#         break\n",
    "    model.set_input(data)\n",
    "    model.test()\n",
    "    \n",
    "    mask = data['mask'].numpy()\n",
    "#     mask = unnorm1(mask)\n",
    "    fore_area = np.sum(mask)\n",
    "    mask = mask[...,np.newaxis]\n",
    "#     mask3 = np.dstack([mask, mask, mask])\n",
    "    \n",
    "    real = to_img(model.real, unnorm=unnorm)\n",
    "    harmonized = to_img(model.harmonized, unnorm=unnorm)\n",
    "#     harmonized = harmonized * mask3 + real * (1 - mask3)\n",
    "    \n",
    "    mse_score = mse(harmonized, real)\n",
    "    fmse_score = mse(harmonized * mask, real * mask) * 256*256 / fore_area\n",
    "    psnr_score = psnr(real, harmonized, data_range=harmonized.max() - harmonized.min())\n",
    "    \n",
    "    loss_psnr += psnr_score\n",
    "    loss_mse += mse_score\n",
    "    loss_fmse += fmse_score\n",
    "    \n",
    "    mse_scores.append(mse_score)\n",
    "    fmse_scores.append(fmse_score)\n",
    "    \n",
    "    if i % 100 == 0:\n",
    "        print(f'Done {i+1} / {dataset_size}: MSE={mse_score:.2f}, PSNR={psnr_score:.2f}, FMSE={fmse_score:.2f}')\n",
    "#         display = np.concatenate([real, harmonized], axis=1)\n",
    "#         fig = plt.figure(figsize=(15, 15))\n",
    "#         plt.imshow(display)\n",
    "#         plt.show()\n",
    "\n",
    "with open('mse.txt', 'w') as f:\n",
    "    for mse_score in mse_scores:\n",
    "        f.write(f'{mse_score:.2f}\\n')\n",
    "\n",
    "with open('fmse.txt', 'w') as f:\n",
    "    for fmse_score in fmse_scores:\n",
    "        f.write(f'{fmse_score:.2f}\\n')\n",
    "\n",
    "print(f'Average MSE loss: {(loss_mse / dataset_size):.2f}')\n",
    "print(f'Average PSNR loss: {(loss_psnr / dataset_size):.2f}')\n",
    "print(f'Average FMSE loss: {(loss_fmse / dataset_size):.2f}')"
   ]
  }
 ],
 "metadata": {
  "kernelspec": {
   "display_name": "Python 3",
   "language": "python",
   "name": "python3"
  },
  "language_info": {
   "codemirror_mode": {
    "name": "ipython",
    "version": 3
   },
   "file_extension": ".py",
   "mimetype": "text/x-python",
   "name": "python",
   "nbconvert_exporter": "python",
   "pygments_lexer": "ipython3",
   "version": "3.8.5"
  }
 },
 "nbformat": 4,
 "nbformat_minor": 5
}
